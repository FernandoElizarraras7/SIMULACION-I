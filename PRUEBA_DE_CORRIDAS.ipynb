{
  "nbformat": 4,
  "nbformat_minor": 0,
  "metadata": {
    "colab": {
      "provenance": [],
      "authorship_tag": "ABX9TyPlGqKmFxGYTDBjnMvOCvN5",
      "include_colab_link": true
    },
    "kernelspec": {
      "name": "python3",
      "display_name": "Python 3"
    },
    "language_info": {
      "name": "python"
    }
  },
  "cells": [
    {
      "cell_type": "markdown",
      "metadata": {
        "id": "view-in-github",
        "colab_type": "text"
      },
      "source": [
        "<a href=\"https://colab.research.google.com/github/FernandoElizarraras7/SIMULACION-I/blob/main/PRUEBA_DE_CORRIDAS.ipynb\" target=\"_parent\"><img src=\"https://colab.research.google.com/assets/colab-badge.svg\" alt=\"Open In Colab\"/></a>"
      ]
    },
    {
      "cell_type": "code",
      "execution_count": 26,
      "metadata": {
        "colab": {
          "base_uri": "https://localhost:8080/"
        },
        "id": "AiyXWrxtPzLL",
        "outputId": "f7fb9808-63fb-40b5-d8d4-6acb715ef758"
      },
      "outputs": [
        {
          "output_type": "stream",
          "name": "stdout",
          "text": [
            "Número total de elementos en la muestra: 25\n",
            "\n",
            "Las hipótesis son:\n",
            "H0: Los números de la muestra son independientes\n",
            "H1: Los números de la muestra no son independientes\n",
            "\n",
            "Conjunto S: [1, 0, 0, 1, 0, 0, 1, 0, 1, 0, 1, 0, 1, 1, 1, 0, 0, 1, 0, 0, 0, 0, 1, 1]\n",
            "Número de corridas en la muestra: 15\n",
            "\n",
            "El intervalo de aceptación es: (-1.96, 1.96)\n",
            "\n",
            "Estadístico de la prueba de corridas: -0.3235\n",
            "-1.96 <= -0.3235 <= 1.96\n",
            "Se acepta H0. Los números de la muestra son independientes\n"
          ]
        }
      ],
      "source": [
        "#Prueba de corridas con distribución normal estándar\n",
        "import numpy as np\n",
        "\n",
        "#Definición de la muestra de números\n",
        "x = [0.048, 0.591, 0.478, 0.166, 0.932, 0.926, 0.007, 0.551, 0.362, 0.533,\n",
        "     0.368, 0.437, 0.178, 0.411, 0.545, 0.787, 0.594, 0.086, 0.951, 0.772,\n",
        "     0.298, 0.199, 0.157, 0.401, 0.631]\n",
        "\n",
        "#Cálculo del conjunto S\n",
        "def calcular_conjunto_S(muestra):\n",
        "    conjunto_S = []\n",
        "    for i in range(1, len(muestra)):\n",
        "        if muestra[i] > muestra[i-1]:\n",
        "            conjunto_S.append(1)\n",
        "        else:\n",
        "            conjunto_S.append(0)\n",
        "    return conjunto_S\n",
        "\n",
        "conjunto_S = calcular_conjunto_S(x)\n",
        "\n",
        "#Cálculo de las corridas en la muestra\n",
        "def contar_corridas(conjunto_S):\n",
        "    corridas = 1\n",
        "    for i in range(1, len(conjunto_S)):\n",
        "        if conjunto_S[i] != conjunto_S[i-1]:\n",
        "            corridas += 1\n",
        "    return corridas\n",
        "\n",
        "corridas = contar_corridas(conjunto_S)\n",
        "\n",
        "#Cálculo del estadístico de la prueba de corridas\n",
        "def calcular_estadistico_corridas(muestra):\n",
        "    n = len(x)\n",
        "    Mc = (2 * n - 1) / 3\n",
        "    var = (16 * n - 29) / 90\n",
        "    conjunto_S = calcular_conjunto_S(muestra)\n",
        "    corridas_observadas = contar_corridas(conjunto_S)\n",
        "    Z0 = (corridas_observadas - Mc) / var\n",
        "    return Z0\n",
        "\n",
        "estadistico_corridas = calcular_estadistico_corridas(x)\n",
        "\n",
        "#Definición del intervalo de aceptación\n",
        "intervalo_aceptacion = (-1.96,1.96)\n",
        "\n",
        "#Impresión de resultados\n",
        "print(\"Número total de elementos en la muestra:\", len(x))\n",
        "print(\"\\nLas hipótesis son:\")\n",
        "print(\"H0: Los números de la muestra son independientes\")\n",
        "print(\"H1: Los números de la muestra no son independientes\")\n",
        "print(\"\\nConjunto S:\", conjunto_S)\n",
        "print(\"Número de corridas en la muestra:\", corridas)\n",
        "print(\"\\nEl intervalo de aceptación es:\", intervalo_aceptacion)\n",
        "print(f\"\\nEstadístico de la prueba de corridas: {estadistico_corridas:.4f}\")\n",
        "print(f\"-1.96 <= {estadistico_corridas:.4f} <= 1.96\")\n",
        "\n",
        "#Evaluación de la hipótesis nula\n",
        "if lim_inf < estadistico_corridas < lim_sup:\n",
        "    print(\"Se acepta H0. Los números de la muestra son independientes\")\n",
        "else:\n",
        "    print(\"Se rechaza H0. Los números de la muestra no son independientes\")"
      ]
    }
  ]
}