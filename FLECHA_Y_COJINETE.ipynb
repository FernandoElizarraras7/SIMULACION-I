{
  "nbformat": 4,
  "nbformat_minor": 0,
  "metadata": {
    "colab": {
      "provenance": [],
      "authorship_tag": "ABX9TyNZeJfx7bXsNzNQpAXemAHl",
      "include_colab_link": true
    },
    "kernelspec": {
      "name": "python3",
      "display_name": "Python 3"
    },
    "language_info": {
      "name": "python"
    }
  },
  "cells": [
    {
      "cell_type": "markdown",
      "metadata": {
        "id": "view-in-github",
        "colab_type": "text"
      },
      "source": [
        "<a href=\"https://colab.research.google.com/github/FernandoElizarraras7/SIMULACION-I/blob/main/FLECHA_Y_COJINETE.ipynb\" target=\"_parent\"><img src=\"https://colab.research.google.com/assets/colab-badge.svg\" alt=\"Open In Colab\"/></a>"
      ]
    },
    {
      "cell_type": "markdown",
      "source": [
        "# Ejemplo: Flecha y cojinete\n",
        "Una flecha será embonada en un cojinete como se muestra a continuación:\n",
        "\n",
        "\n",
        "Si $x_1$ sigue una distribución normal con media 1.5 y varianza 0.0016, y $x_2$ esta misma distribución con media 1.48 y varianza 0.0009, determine:\n",
        "\n",
        "La probabilidad de que haya interferencia.\n",
        "\n",
        "1.   La probabilidad de que haya interferencia.\n",
        "2.   El número de veces que es necesario simular el experimento, si se quiere que la probabilidad de interferencia estimada difiera de su valor verdadero en menos de 0.01, con un nivel de seguridad del 95%\n",
        "\n",
        "Vamos a resolver este problema, procurando seguir la metodología vista en el curso.\n",
        "\n",
        "### 1.- Identifique las variables\n",
        "Tenemos dos: x_1 y x_2\n",
        "\n",
        "### 2 y 3.- Determine la distribución de probabilidad y modele las variables aleatorias\n",
        "En el planteamiento ya se especifica que $x_1 \\sim N(1.5, 0.04)$ y que $x_1  \\sim N (1.48, 0.03)$\n",
        "\n",
        "### 4.- Defina el modelo del sistema y los objetivos de la simulación.\n",
        "\n",
        "La diferencia $x_1 - x_2$ modela adecuadamente el sistema.\n",
        "\n",
        "Si $x_2 - x_1 > 0$, el diametro de la flecha es más grande que el espacio en el cojinete y, por tanto, hay interferencia. De lo contrario, las piezas embonan sin problema.\n",
        "\n",
        "Objetivo: determinar la frecuencia con que esto ocurre, lo cual nos da una esrimación de la probabilidad de interefrencia.\n",
        "\n",
        "Una forma de implementarlo es mediante el siguiente código."
      ],
      "metadata": {
        "id": "9xGN-vFuYSek"
      }
    },
    {
      "cell_type": "code",
      "source": [
        "import numpy as np\n",
        "import random\n",
        "import matplotlib.pyplot as plt\n",
        "from scipy.stats import norm\n",
        "def interferencia():                # Esta función devuelve el valor 1 si hay interferencia ó 0 si no la hay.\n",
        "    interf=0\n",
        "    x_1 = random.gauss(1.50,0.04)    # La función gauss genera un número que sigue una distribucion normal.\n",
        "    x_2 = random.gauss(1.48,0.03)   # La media y la desviación estandar especificados.\n",
        "    if 0.0 < x_2 - x_1:\n",
        "        interf += 1\n",
        "    return interf\n",
        "interferencia()"
      ],
      "metadata": {
        "colab": {
          "base_uri": "https://localhost:8080/"
        },
        "id": "9hjUwGmga49r",
        "outputId": "e4287d6d-b38e-4199-f881-5d8ae51f1a2f"
      },
      "execution_count": 3,
      "outputs": [
        {
          "output_type": "execute_result",
          "data": {
            "text/plain": [
              "1"
            ]
          },
          "metadata": {},
          "execution_count": 3
        }
      ]
    },
    {
      "cell_type": "markdown",
      "source": [
        "### 5.- Diseñe el experimento:\n",
        "\n",
        "Para estimar la probabilidad de interferencia, ejecutamos n veces la función anterior y calculamos de manera acumulativa la probabilidad de interferencia."
      ],
      "metadata": {
        "id": "h-lq0U8IbTJA"
      }
    },
    {
      "cell_type": "code",
      "source": [
        "def prob_inter(n):\n",
        "    prob = []                       # Esta funcion devuelve esta lista \"prob\", con los valores de la probabilidad\n",
        "    inter = 0                       # estimada al contar las veces que hay interferencia y dividir entre las veces que\n",
        "    for i in range(n):              # se ha repetido la observacion mientras aumenta el numero de iteraciones.\n",
        "        inter += interferencia()\n",
        "        prob.append(inter/(i+1))\n",
        "    return prob\n",
        "X = prob_inter(500)                # Asignamos valores a n y realizamos el experimento\n",
        "plt.plot(X)                         # La gráfica muestra que la convergencia está garantizada con 500 iteraciones\n",
        "                                    # Sin embargo, diferentes ejecuciones darán resultados distintos\n",
        "print(np.mean(X), np.std(X))"
      ],
      "metadata": {
        "colab": {
          "base_uri": "https://localhost:8080/",
          "height": 447
        },
        "id": "BIuvL3KEbZ-8",
        "outputId": "c0a5be6d-9f8d-4d6a-c4f3-8b18da0545fc"
      },
      "execution_count": 4,
      "outputs": [
        {
          "output_type": "stream",
          "name": "stdout",
          "text": [
            "0.31990221987189194 0.06150074556385495\n"
          ]
        },
        {
          "output_type": "display_data",
          "data": {
            "text/plain": [
              "<Figure size 640x480 with 1 Axes>"
            ],
            "image/png": "[encoded data removed]"
          },
          "metadata": {}
        }
      ]
    },
    {
      "cell_type": "markdown",
      "source": [
        "### 6.- Repita el experimento n veces:\n",
        "\n",
        "Una forma de hacerlo es mediante el siguiente codigo."
      ],
      "metadata": {
        "id": "xvQf0e4ybvww"
      }
    },
    {
      "cell_type": "code",
      "source": [
        "def modelo(n):\n",
        "    lista=[]\n",
        "    for i in range(n):\n",
        "        s = prob_inter(500)\n",
        "        lista.append(np.mean(s))\n",
        "    return lista\n",
        "Y=modelo(120)\n",
        "mean_Y = np.mean(Y)\n",
        "std_Y = np.std(Y)\n",
        "print(\"Media de las estimaciones:\", mean_Y)\n",
        "print(\"Desviación estándar de las estimaciones:\", std_Y)\n",
        "plt.hist(Y, color = 'purple')\n",
        "plt.show()"
      ],
      "metadata": {
        "colab": {
          "base_uri": "https://localhost:8080/",
          "height": 465
        },
        "id": "kdnnU4QRcRJh",
        "outputId": "618d2def-8b55-405f-c3a8-5172607c4f9a"
      },
      "execution_count": 16,
      "outputs": [
        {
          "output_type": "stream",
          "name": "stdout",
          "text": [
            "Media de las estimaciones: 0.34061785585759113\n",
            "Desviación estándar de las estimaciones: 0.03253371967880926\n"
          ]
        },
        {
          "output_type": "display_data",
          "data": {
            "text/plain": [
              "<Figure size 640x480 with 1 Axes>"
            ],
            "image/png": "[encoded data removed]"
          },
          "metadata": {}
        }
      ]
    },
    {
      "cell_type": "markdown",
      "source": [
        "### 7.- Hallamos el intervalo de confianza.\n",
        "\n",
        "$$\\bar{x}-z_{\\alpha/2} \\cdot \\frac{s}{\\sqrt{n}} < \\mu < \\bar{x}+z_{\\alpha/2}\\cdot \\frac{s}{\\sqrt{n}}$$"
      ],
      "metadata": {
        "id": "T7VwltkCd05U"
      }
    },
    {
      "cell_type": "code",
      "source": [
        "np.mean(Y)\n",
        "np.mean(Y) - 1.96*np.std(Y)/np.sqrt(50), np.mean(Y) + 1.96*np.std(Y)/np.sqrt(50)"
      ],
      "metadata": {
        "colab": {
          "base_uri": "https://localhost:8080/"
        },
        "id": "qkiQ_35beXmC",
        "outputId": "2327323d-573c-4ec2-9893-052164ead55f"
      },
      "execution_count": 17,
      "outputs": [
        {
          "output_type": "execute_result",
          "data": {
            "text/plain": [
              "(0.3315999688471647, 0.3496357428680176)"
            ]
          },
          "metadata": {},
          "execution_count": 17
        }
      ]
    },
    {
      "cell_type": "markdown",
      "source": [
        "### Para determinar el número de simulaciones\n",
        "\n",
        "$$N > \\Bigg( \\frac{2 \\sigma z_{\\alpha/2}}{\\epsilon} \\Bigg) ^2$$"
      ],
      "metadata": {
        "id": "57IJ9AgxehMy"
      }
    },
    {
      "cell_type": "code",
      "source": [
        "N = (2*np.std(X)*1.96/0.01)**2\n",
        "print(N)"
      ],
      "metadata": {
        "colab": {
          "base_uri": "https://localhost:8080/"
        },
        "id": "QsnGs2Rgeq6D",
        "outputId": "385e12a1-edba-45d4-b578-3681c4de0ca2"
      },
      "execution_count": 18,
      "outputs": [
        {
          "output_type": "stream",
          "name": "stdout",
          "text": [
            "581.2097557432941\n"
          ]
        }
      ]
    },
    {
      "cell_type": "markdown",
      "source": [
        "### Se puede comparar con la sulución analítica del problema.\n",
        "\n",
        "Para ello usamos la teoría sobre la suma de variables con distribución normal."
      ],
      "metadata": {
        "id": "P5T8zBgOe0cF"
      }
    },
    {
      "cell_type": "code",
      "source": [
        "norm.cdf(-0.04, -0.02, 0.05)\n",
        "norm.cdf(-0.04, -0.02, 0.05)-np.mean(Y)"
      ],
      "metadata": {
        "colab": {
          "base_uri": "https://localhost:8080/"
        },
        "id": "743pdi9We711",
        "outputId": "7fca0d82-6b3a-4c23-a99c-8550ece95f3a"
      },
      "execution_count": 19,
      "outputs": [
        {
          "output_type": "execute_result",
          "data": {
            "text/plain": [
              "0.003960402532084684"
            ]
          },
          "metadata": {},
          "execution_count": 19
        }
      ]
    },
    {
      "cell_type": "markdown",
      "source": [
        "## Solución Analítica\n",
        "Para validar la solución analítica, consideramos las propiedades de las distribuciones normales.\n",
        "\n",
        "#### Distribución de la Diferencia:\n",
        "$$x_2 - x_1 \\sim N (μ_2 - μ_1, σ_{2}^{2} + σ_{1}^{2})$$\n",
        "\n",
        "Donde:\n",
        "\n",
        "\n",
        "*   $μ_2 - μ_1=1.48-1.5=-0.02$\n",
        "*   $σ_{2}^{2} + σ_{1}^{2}=(0.03)^2+(0.04)^2=0.0025$\n",
        "\n",
        "Por lo tanto:\n",
        "$$x_2 - x_1 \\sim N(-0.02, 0.0025)$$\n",
        "\n",
        "#### Cálculo de la Probabilidad de Interferencia:\n",
        "$$P(x_2 - x_1<0)=P[\\frac{x_2 - x_1-(-0.02)}{0.05}<\\frac{0-(-0.02)}{0.05}]$$\n",
        "$$P(x_2 - x_1<0)=P(Z<\\frac{0.02}{0.05}=P(Z<0.4))$$\n",
        "\n",
        "Donde $Z$ es una variable normal estándar.\n",
        "\n",
        "#### Usando la Distribución Normal Estándar:\n",
        "$$P(Z<0.4)\\approx0.6554$$\n",
        "Por lo tanto, la probabilidad de interferencia es aproximadamente 0.6554 ó 65.54%\n",
        "\n",
        "## Comparación con la Solución Analítica\n",
        "\n"
      ],
      "metadata": {
        "id": "aQLMq0VfgKar"
      }
    },
    {
      "cell_type": "code",
      "source": [
        "# Probabilidad analítica de interferencia\n",
        "prob_analitica = norm.cdf(0.4)\n",
        "print(f\"Probabilidad analítica de interferencia: {prob_analitica} ó {prob_analitica*100:.2f}%\")"
      ],
      "metadata": {
        "colab": {
          "base_uri": "https://localhost:8080/"
        },
        "id": "ZyNu24FggNKU",
        "outputId": "b9f6ba8e-60d9-4bb3-e5b3-5f8b85675721"
      },
      "execution_count": 22,
      "outputs": [
        {
          "output_type": "stream",
          "name": "stdout",
          "text": [
            "Probabilidad analítica de interferencia: 0.6554217416103242 ó 65.54%\n"
          ]
        }
      ]
    },
    {
      "cell_type": "markdown",
      "source": [
        "## Justificación del Cálculo del Intervalo de Confianza y del Número de Corridas de la Simulación\n",
        "\n",
        "#### Intervalo de Confianza:\n",
        "Usamos el intervalo de confianza del 95% basado en la media y desviación estándar de las estimaciones:\n",
        "$$\\bar{X}\\pm Z_{α/2}\\frac{σ}{\\sqrt{n}}$$\n",
        "Donde $Z_{α/2}=1.96$ para un nivel de confianza del 95%.\n",
        "#### Número de Corridas de la Simulación:\n",
        "Usamos la fórmula para estimar el tamaño de la muestra:\n",
        "$$N=(\\frac{2σZ_{α/2}}{E})^2$$\n",
        "Donde $E$ es el error tolerado (0.01 en este caso) y $Z_{α/2}=1.96$"
      ],
      "metadata": {
        "id": "1NcvG1mWk_7X"
      }
    }
  ]
}