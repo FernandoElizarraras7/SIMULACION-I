{
  "nbformat": 4,
  "nbformat_minor": 0,
  "metadata": {
    "colab": {
      "provenance": [],
      "authorship_tag": "ABX9TyMHCruNqp/DEDh1rggn7DiB",
      "include_colab_link": true
    },
    "kernelspec": {
      "name": "python3",
      "display_name": "Python 3"
    },
    "language_info": {
      "name": "python"
    }
  },
  "cells": [
    {
      "cell_type": "markdown",
      "metadata": {
        "id": "view-in-github",
        "colab_type": "text"
      },
      "source": [
        "<a href=\"https://colab.research.google.com/github/FernandoElizarraras7/SIMULACION-I/blob/main/SIMULACION_I.ipynb\" target=\"_parent\"><img src=\"https://colab.research.google.com/assets/colab-badge.svg\" alt=\"Open In Colab\"/></a>"
      ]
    },
    {
      "cell_type": "code",
      "execution_count": 10,
      "metadata": {
        "colab": {
          "base_uri": "https://localhost:8080/"
        },
        "id": "d39gOvyJ-RkF",
        "outputId": "5d9b369b-65bc-4830-cb3d-b9c6cf4e2da0"
      },
      "outputs": [
        {
          "output_type": "stream",
          "name": "stdout",
          "text": [
            "Inciso (a)\n",
            "Ciclo: 29\n",
            "Números generados: [22, 12, 19, 11, 29, 4, 6, 17, 0, 15, 20, 1, 5, 27, 24, 23, 2, 26, 3, 16, 10, 8, 28, 14, 30, 25, 13, 9, 18]\n",
            "\n",
            "Inciso (b)\n",
            "Ciclo: 127\n",
            "Números generados: [100, 29, 2, 35, 80, 25, 78, 127, 124, 85, 90, 27, 104, 81, 38, 119, 20, 13, 50, 19, 0, 9, 126, 111, 44, 69, 10, 11, 24, 65, 86, 103, 68, 125, 98, 3, 48, 121, 46, 95, 92, 53, 58, 123, 72, 49, 6, 87, 116, 109, 18, 115, 96, 105, 94, 79, 12, 37, 106, 107, 120, 33, 54, 71, 36, 93, 66, 99, 16, 89, 14, 63, 60, 21, 26, 91, 40, 17, 102, 55, 84, 77, 114, 83, 64, 73, 62, 47, 108, 5, 74, 75, 88, 1, 22, 39, 4, 61, 34, 67, 112, 57, 110, 31, 28, 117, 122, 59, 8, 113, 70, 23, 52, 45, 82, 51, 32, 41, 30, 15, 76, 101, 42, 43, 56, 97, 118]\n",
            "\n",
            "Inciso (c)\n",
            "Ciclo: 29\n",
            "Números generados: [19, 13, 4, 6, 9, 29, 28, 11, 1, 17, 10, 15, 7, 26, 8, 12, 18, 27, 25, 22, 2, 3, 20, 30, 14, 21, 16, 24, 5]\n",
            "\n",
            "Inciso (d)\n",
            "Ciclo: 255\n",
            "Números generados: [138, 3, 124, 245, 110, 231, 96, 217, 82, 203, 68, 189, 54, 175, 40, 161, 26, 147, 12, 133, 254, 119, 240, 105, 226, 91, 212, 77, 198, 63, 184, 49, 170, 35, 156, 21, 142, 7, 128, 249, 114, 235, 100, 221, 86, 207, 72, 193, 58, 179, 44, 165, 30, 151, 16, 137, 2, 123, 244, 109, 230, 95, 216, 81, 202, 67, 188, 53, 174, 39, 160, 25, 146, 11, 132, 253, 118, 239, 104, 225, 90, 211, 76, 197, 62, 183, 48, 169, 34, 155, 20, 141, 6, 127, 248, 113, 234, 99, 220, 85, 206, 71, 192, 57, 178, 43, 164, 29, 150, 15, 136, 1, 122, 243, 108, 229, 94, 215, 80, 201, 66, 187, 52, 173, 38, 159, 24, 145, 10, 131, 252, 117, 238, 103, 224, 89, 210, 75, 196, 61, 182, 47, 168, 33, 154, 19, 140, 5, 126, 247, 112, 233, 98, 219, 84, 205, 70, 191, 56, 177, 42, 163, 28, 149, 14, 135, 0, 121, 242, 107, 228, 93, 214, 79, 200, 65, 186, 51, 172, 37, 158, 23, 144, 9, 130, 251, 116, 237, 102, 223, 88, 209, 74, 195, 60, 181, 46, 167, 32, 153, 18, 139, 4, 125, 246, 111, 232, 97, 218, 83, 204, 69, 190, 55, 176, 41, 162, 27, 148, 13, 134, 255, 120, 241, 106, 227, 92, 213, 78, 199, 64, 185, 50, 171, 36, 157, 22, 143, 8, 129, 250, 115, 236, 101, 222, 87, 208, 73, 194, 59, 180, 45, 166, 31, 152]\n",
            "\n",
            "Inciso (e)\n",
            "Ciclo: 148\n",
            "Números generados: [2, 47, 57, 46, 29, 19, 2, 7, 49, 46, 37, 59, 2, 31, 41, 46, 45, 35, 2, 55, 33, 46, 53, 11, 2, 15, 25, 46, 61, 51, 2, 39, 17, 46, 5, 27, 2, 63, 9, 46, 13, 3, 2, 23, 1, 46, 21, 43, 2, 47, 57, 46, 29, 19, 2, 7, 49, 46, 37, 59, 2, 31, 41, 46, 45, 35, 2, 55, 33, 46, 53, 11, 2, 15, 25, 46, 61, 51, 2, 39, 17, 46, 5, 27, 2, 63, 9, 46, 13, 3, 2, 23, 1, 46, 21, 43, 2, 47, 57, 46, 29, 19, 2, 7, 49, 46, 37, 59, 2, 31, 41, 46, 45, 35, 2, 55, 33, 46, 53, 11, 2, 15, 25, 46, 61, 51, 2, 39, 17, 46, 5, 27, 2, 63, 9, 46, 13, 3, 2, 23, 1, 46, 21, 43, 2, 47, 57, 46]\n"
          ]
        }
      ],
      "source": [
        "#La función generada es para hacer el cálculo del generador congruencial, con la fórmula [x_j+1 = (a*x_j + b)mod m]\n",
        "def generador_congruencial(a, b, m, x0, n):\n",
        "    resultados = [x0]  #Lista donde se guardará la secuencia de números\n",
        "    for _ in range(n):\n",
        "        x = (a * resultados[-1] + b) % m\n",
        "        resultados.append(x)\n",
        "        #Verificar si se ha repetido el valor\n",
        "        if x == x0:\n",
        "            return resultados[1:-1]  #Excluir el último valor que se repite\n",
        "    return resultados[1:]  #Excluir x0 al inicio si no se repite\n",
        "\n",
        "#Inciso (a)\n",
        "print(\"Inciso (a)\")\n",
        "resultados_a = generador_congruencial(21, 15, 31, 21, 50)\n",
        "print(\"Ciclo:\", len(resultados_a))\n",
        "print(\"Números generados:\", resultados_a)\n",
        "\n",
        "#Inciso (b)\n",
        "print(\"\\nInciso (b)\")\n",
        "resultados_b = generador_congruencial(13, 9, 128, 7, 150)\n",
        "print(\"Ciclo:\", len(resultados_b))\n",
        "print(\"Números generados:\", resultados_b)\n",
        "\n",
        "#Inciso (c)\n",
        "print(\"\\nInciso (c)\")\n",
        "resultados_c = generador_congruencial(17, 0, 31, 23, 50)\n",
        "print(\"Ciclo:\", len(resultados_c))\n",
        "print(\"Números generados:\", resultados_c)\n",
        "\n",
        "#Inciso (d)\n",
        "print(\"\\nInciso (d)\")\n",
        "resultados_d = generador_congruencial(1, 121, 256, 17, 300)\n",
        "print(\"Ciclo:\", len(resultados_d))\n",
        "print(\"Números generados:\", resultados_d)\n",
        "\n",
        "#Inciso (e)\n",
        "print(\"\\nInciso (e)\")\n",
        "#Esta función es similar a la anterior, solo que aquí hay dos semillas en lugar de una\n",
        "def generador_congruencial_e(x0, x1, m, n):\n",
        "    resultados = [x0, x1]   #Lista donde se guardará la secuencia de números\n",
        "    for _ in range(2, n):\n",
        "        x = (21 * resultados[-1] + 15 * resultados[-2]) % m\n",
        "        resultados.append(x)\n",
        "        #Verificar si se ha repetido el valor\n",
        "        if x == x0 and resultados[-2] == x1:\n",
        "            return resultados[2:-1]  #Excluir los dos últimos valores que se repiten\n",
        "    return resultados[2:]  #Excluir x0 y x1 al inicio si no se repiten\n",
        "\n",
        "resultados_e = generador_congruencial_e(21, 43, 64, 150)\n",
        "print(\"Ciclo:\", len(resultados_e))\n",
        "print(\"Números generados:\", resultados_e)"
      ]
    }
  ]
}