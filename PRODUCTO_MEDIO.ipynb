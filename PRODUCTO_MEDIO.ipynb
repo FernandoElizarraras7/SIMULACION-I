{
  "nbformat": 4,
  "nbformat_minor": 0,
  "metadata": {
    "colab": {
      "provenance": [],
      "authorship_tag": "ABX9TyM65u47lKXf1nA5fFFsdwOz",
      "include_colab_link": true
    },
    "kernelspec": {
      "name": "python3",
      "display_name": "Python 3"
    },
    "language_info": {
      "name": "python"
    }
  },
  "cells": [
    {
      "cell_type": "markdown",
      "metadata": {
        "id": "view-in-github",
        "colab_type": "text"
      },
      "source": [
        "<a href=\"https://colab.research.google.com/github/FernandoElizarraras7/SIMULACION-I/blob/main/PRODUCTO_MEDIO.ipynb\" target=\"_parent\"><img src=\"https://colab.research.google.com/assets/colab-badge.svg\" alt=\"Open In Colab\"/></a>"
      ]
    },
    {
      "cell_type": "code",
      "execution_count": 28,
      "metadata": {
        "colab": {
          "base_uri": "https://localhost:8080/"
        },
        "id": "ZlF9iyNHgxhM",
        "outputId": "0eccdee1-416d-4b14-a2f1-cb9942c9ca51"
      },
      "outputs": [
        {
          "output_type": "stream",
          "name": "stdout",
          "text": [
            "Ingrese la cantidad de dígitos que desea utilizar: 2\n",
            "Ingrese el primer número: 45\n",
            "Ingrese el segundo número: 27\n",
            "Se reemplazará el segundo número.\n",
            "Tus números son: [45, 27]\n",
            "Multiplicación: 45 * 27 = 1215\n",
            "El resultado tiene 4 dígitos.\n",
            "El nuevo número es: 21\n",
            "Multiplicación: 27 * 21 = 567\n",
            "El resultado tiene 3 dígitos.\n",
            "El nuevo número es: 56\n",
            "Multiplicación: 21 * 56 = 1176\n",
            "El resultado tiene 4 dígitos.\n",
            "El nuevo número es: 17\n",
            "Multiplicación: 56 * 17 = 952\n",
            "El resultado tiene 3 dígitos.\n",
            "El nuevo número es: 95\n",
            "Multiplicación: 17 * 95 = 1615\n",
            "El resultado tiene 4 dígitos.\n",
            "El nuevo número es: 61\n",
            "Multiplicación: 95 * 61 = 5795\n",
            "El resultado tiene 4 dígitos.\n",
            "El nuevo número es: 79\n",
            "Multiplicación: 61 * 79 = 4819\n",
            "El resultado tiene 4 dígitos.\n",
            "El nuevo número es: 81\n",
            "Multiplicación: 79 * 81 = 6399\n",
            "El resultado tiene 4 dígitos.\n",
            "El nuevo número es: 39\n",
            "Multiplicación: 81 * 39 = 3159\n",
            "El resultado tiene 4 dígitos.\n",
            "El nuevo número es: 15\n",
            "Multiplicación: 39 * 15 = 585\n",
            "El resultado tiene 3 dígitos.\n",
            "El nuevo número es: 58\n",
            "Lista del primer número: [45, 27, 21, 56, 17, 95, 61, 79, 81, 39, 15]\n",
            "Lista del segundo número: [27, 21, 56, 17, 95, 61, 79, 81, 39, 15, 58]\n",
            "Números generados: [45, 27, 21, 56, 17, 95, 61, 79, 81, 39, 15, 58]\n"
          ]
        }
      ],
      "source": [
        "import math\n",
        "\n",
        "#Función para verificar que un número tenga la cantidad de dígitos específicada.\n",
        "def verificar_digito(numero, a):\n",
        "    while len(str(numero)) != a:\n",
        "        print(\"El número debe tener\", a, \"dígitos.\")\n",
        "        numero = int(input(\"Ingrese un número de {} dígitos: \".format(a)))\n",
        "    return numero\n",
        "\n",
        "#Función para extraer un nuevo número de \"a\" dígitos del resultado de la multiplicación.\n",
        "def extraer_nuevo_numero(resultado, a):\n",
        "    num_str = str(resultado)\n",
        "    centro = len(num_str) // 2\n",
        "    nuevo_num = int(num_str[centro - a//2 : centro + a//2])\n",
        "    return nuevo_num\n",
        "\n",
        "#Se le solicita al usuario la cantidad de dígitos \"a\" y los dos números iniciales.\n",
        "a = int(input(\"Ingrese la cantidad de dígitos que desea utilizar: \"))\n",
        "x1 = verificar_digito(int(input(\"Ingrese el primer número: \")), a)\n",
        "x2 = verificar_digito(int(input(\"Ingrese el segundo número: \")), a)\n",
        "\n",
        "print(\"Se reemplazará el segundo número.\")\n",
        "\n",
        "#Se crea una lista para almacenar los números ingresados.\n",
        "numeros = [x1, x2]\n",
        "print(\"Tus números son:\", numeros)\n",
        "\n",
        "#Se crean un par de listas para almacenar los números en cada iteración del ciclo.\n",
        "lista1 = [x1]\n",
        "lista2 = [x2]\n",
        "\n",
        "for i in range(10):\n",
        "    resultado = x1 * x2\n",
        "    print(\"Multiplicación:\", x1, \"*\", x2, \"=\", resultado)\n",
        "\n",
        "#Se calculan la cantidad de dígitos del resultado.\n",
        "    n = math.ceil(math.log10(resultado))\n",
        "    print(\"El resultado tiene\", n, \"dígitos.\")\n",
        "\n",
        "#Se extrae un nuevo número de \"a\" dígitos del resultado.\n",
        "    nuevo_num = extraer_nuevo_numero(resultado, a)\n",
        "    print(\"El nuevo número es:\", nuevo_num)\n",
        "    numeros.append(nuevo_num)\n",
        "\n",
        "#Se actualizan los números para la siguiente iteración del ciclo.\n",
        "    x1 = x2\n",
        "    x2 = nuevo_num\n",
        "\n",
        "    lista1.append(x1)\n",
        "    lista2.append(x2)\n",
        "\n",
        "print(\"Lista del primer número:\", lista1)\n",
        "print(\"Lista del segundo número:\", lista2)\n",
        "print(\"Números generados:\", numeros)"
      ]
    }
  ]
}