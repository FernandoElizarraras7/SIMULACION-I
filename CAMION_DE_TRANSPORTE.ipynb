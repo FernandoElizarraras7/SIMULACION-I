{
  "nbformat": 4,
  "nbformat_minor": 0,
  "metadata": {
    "colab": {
      "provenance": [],
      "authorship_tag": "ABX9TyNotfFzCe8aiA34sbJ5pvts",
      "include_colab_link": true
    },
    "kernelspec": {
      "name": "python3",
      "display_name": "Python 3"
    },
    "language_info": {
      "name": "python"
    }
  },
  "cells": [
    {
      "cell_type": "markdown",
      "metadata": {
        "id": "view-in-github",
        "colab_type": "text"
      },
      "source": [
        "<a href=\"https://colab.research.google.com/github/FernandoElizarraras7/SIMULACION-I/blob/main/CAMION_DE_TRANSPORTE.ipynb\" target=\"_parent\"><img src=\"https://colab.research.google.com/assets/colab-badge.svg\" alt=\"Open In Colab\"/></a>"
      ]
    },
    {
      "cell_type": "code",
      "execution_count": null,
      "metadata": {
        "id": "pQ6zfqV1cyha"
      },
      "outputs": [],
      "source": []
    },
    {
      "cell_type": "markdown",
      "source": [
        "1. ¿Cuál es la probabilidad de que el peso de las tinas exceda la capacidad del camión?\n",
        "\n",
        "**(a) ANALÍTICAMENTE**\n",
        "\n",
        "Para una distribución triangular con parámetros a, b y c:\n",
        "\n",
        "*   La media μ y varianza $\\sigma^{2}$ es:\n",
        "\n",
        " $μ=\\frac{a+b+c}{3}$\n",
        "\n",
        " $\\sigma^{2}=\\frac{a^{2}+b^{2}+c^{2}-ab-ac-bc}{18}$\n",
        "\n",
        " Dado que $a=190 , b=210, c=230$\n",
        "\n",
        " $μ=\\frac{190+210+230}{3}=210$\n",
        "\n",
        " $\\sigma^{2}=\\frac{190^{2}+210^{2}+230^{2}-(190)(210)-(190)(230)-(210)(230)}{18}$\n",
        "\n",
        " $\\sigma^{2}=\\frac{36100+44100+52900-39900-43700-48300}{18}$\n",
        "\n",
        " $\\sigma^{2}=\\frac{1200}{18}$\n",
        "\n",
        " $\\sigma=\\sqrt{\\frac{1200}{18}}≈8.17$\n",
        "*   Suma de pesos\n",
        " Para 5 tinas, la media total ($μ_{total}$) y la varianza total ($\\sigma^{2}_{total}$) serán:\n",
        "\n",
        " $μ_{total}=(5)(210)=1050$\n",
        "\n",
        " $\\sigma^{2}_{total}=(5)(\\frac{1200}{18})=\\frac{1000}{3}≈333.33$\n",
        "\n",
        " $σ=\\sqrt{\\frac{1000}{3}}≈18.26$\n",
        "* Aproximación Normal\n",
        "\n",
        " Se usa la aproximación para estimar la probabilidad de que la suma de los pesos exceda 1000 kg:\n",
        "\n",
        " $Z=\\frac{1000-μ_{total}}{σ_{total}}=\\frac{1000-1050}{\\sqrt{\\frac{1000}{3}}}=-\\frac{\\sqrt{30}}{2}≈-2.74$\n",
        "\n",
        " Buscamos la probabilidad correspondiente a $Z=-2.74$ en la tabla de la distribución normal estándar:\n",
        "\n",
        " $P(Z>-2.74)≈0.9969$\n",
        "\n",
        "Por lo tanto la probabilidad de que el peso de las tinas exceda la capacidad del camión es aproximadamente 0.9969 o 99.69%\n",
        "\n",
        "\n"
      ],
      "metadata": {
        "id": "nz_ZsrdNc_ZF"
      }
    },
    {
      "cell_type": "code",
      "source": [
        "#(b) POR SIMULACIÓN\n",
        "import numpy as np\n",
        "from scipy.stats import norm\n",
        "\n",
        "a, b, c = 190, 210, 230\n",
        "\n",
        "#Calcular la media (μ) y la varianza (σ²) de una tina\n",
        "mu_tina = (a + b + c) / 3\n",
        "sigma_cuadrada_tina = (a**2 + b**2 + c**2 - a*b - a*c - b*c) / 18\n",
        "\n",
        "#Calcular la media total (μ_total) y la varianza total (σ²_total) para 5 tinas\n",
        "mu_total = 5 * mu_tina\n",
        "sigma_total_cuadrada = 5 * sigma_cuadrada_tina\n",
        "sigma_total = np.sqrt(sigma_total_cuadrada)\n",
        "\n",
        "#Calcular el valor Z para 1000 kg\n",
        "Z = (1000 - mu_total) / sigma_total\n",
        "\n",
        "#Calcular la probabilidad acumulada\n",
        "prob = norm.cdf(Z)\n",
        "\n",
        "#Calcular la probabilidad de exceder 1000 kg\n",
        "prob_exceder = 1 - prob\n",
        "\n",
        "#Mostrar los resultados\n",
        "print(\"La media es: \", mu_tina)\n",
        "print(f\"La varianza es: {sigma_cuadrada_tina:.2f}\")\n",
        "print(f\"La media total es: \", mu_total)\n",
        "print(f\"La varianza total es: {sigma_total:.2f}\")\n",
        "print(f\"El valor de Z es: {Z:.2f}\")\n",
        "print(f\"La probabilidad de que el peso de las tinas exceda la capacidad del camión es: {prob_exceder:.4f} o {100*prob_exceder:.2f}%\")"
      ],
      "metadata": {
        "colab": {
          "base_uri": "https://localhost:8080/"
        },
        "id": "G6SDXlx4ju4u",
        "outputId": "e1cecdaf-2f7d-427a-b8ea-d8dae4d85b50"
      },
      "execution_count": 25,
      "outputs": [
        {
          "output_type": "stream",
          "name": "stdout",
          "text": [
            "La media es:  210.0\n",
            "La varianza es: 66.67\n",
            "La media total es:  1050.0\n",
            "La varianza total es: 18.26\n",
            "El valor de Z es: -2.74\n",
            "La probabilidad de que el peso de las tinas exceda la capacidad del camión es: 0.9969 o 99.69%\n"
          ]
        }
      ]
    },
    {
      "cell_type": "markdown",
      "source": [
        "2. ¿Cuál de las dos alternativas mencionadas es la más atractiva?\n",
        "\n",
        "**(a) ANALÍTICAMENTE**\n",
        "\n",
        "Cada vez que la capacidad del camión es excedida, una tina es enviada a través de otra compañía a un costo de $200.\n",
        "\n",
        "Se trabaja 5 días a la semana y 52 semanas al año, por lo que se trabaja 260 días al año.\n",
        "\n",
        "**Cálculo del número de veces que se excede la capacidad por año:**\n",
        "\n",
        "Número promedio de excedencias por año $=$ Probabilidad de excedencia $*$ Número de días que se trabaja al año\n",
        "\n",
        "Número promedio de excedencias por año $= (0.9969)(260)=259.194$\n",
        "\n",
        "**Cálculo del costo anual de enviar tinas adicionales:**\n",
        "\n",
        "Costo anual $=$ Número promedio de excedencias por año $*$ Costo por envío adicional\n",
        "\n",
        "Costo anual $=(259.194)(200)=51,838.8$\n",
        "\n",
        "El costo anual de un camión es de $60,000\n",
        "\n",
        "**Análisis Comparativo**\n",
        "\n",
        "Costo de enviar tinas adicionales: $51,838.9\n",
        "\n",
        "Costo de un nuevo camión: $60,000\n",
        "\n",
        "Dado que el costo de enviar tinas adicionales es menor que el costo anual de adquirir un nuevo camión, no es conveniente adquirir un nuevo camión bajo las condiciones dadas. Enviar las tinas adicionales mediante otra compañía resulta en un costo menor, por lo que enviar tinas adicionales es lo más conveniente."
      ],
      "metadata": {
        "id": "JB_QtGoLwzsc"
      }
    },
    {
      "cell_type": "code",
      "source": [
        "#(b) POR SIMULACIÓN\n",
        "#Probabilidad de excedencia ya calculada\n",
        "prob_exceder = 0.9969\n",
        "\n",
        "#Número de días que se trabaja al año\n",
        "dias = 5\n",
        "semanas = 52\n",
        "dias_trabajo_año = dias * semanas\n",
        "\n",
        "#Calcular el número promedio de excedencias al año\n",
        "excedencias_año = prob_exceder * dias_trabajo_año\n",
        "\n",
        "#Costo por enviar una tina adicional\n",
        "costo_tina_adicional = 200\n",
        "\n",
        "#Calcular el costo anual de enviar tinas adicionales\n",
        "costo_anual = excedencias_año * costo_tina_adicional\n",
        "\n",
        "#Costo anual de un nuevo camión\n",
        "costo_nuevo_camion = 60000\n",
        "\n",
        "#Análisis comparativo\n",
        "if costo_anual < costo_nuevo_camion:\n",
        "  print(\"El número de días que se trabaja al año es: \", dias_trabajo_año)\n",
        "  print(\"El número promedio de excedencias al año es: \", excedencias_año)\n",
        "  print(f\"El costo por enviar una una tina adicional es: ${costo_tina_adicional}\")\n",
        "  print(f\"El costo anual por enviar tinas adicionales es: ${costo_anual}\")\n",
        "  print(f\"El costo de un nuevo camión es: ${costo_nuevo_camion}\")\n",
        "  print(f\"\\nPor lo tanto enviar tinas adicionales al año es mejor que un nuevo camión, ya que resulta en un costo menor.\")\n",
        "else:\n",
        "  print(\"El número de días que se trabaja al año es: \", dias_trabajo_año)\n",
        "  print(\"El número promedio de excedencias al año es: \", excedencias_año)\n",
        "  print(f\"El costo por enviar una una tina adicional es: ${costo_tina_adicional}\")\n",
        "  print(f\"El costo anual por enviar tinas adicionales es: ${costo_anual}\")\n",
        "  print(f\"El costo de un nuevo camión es: ${costo_nuevo_camion}\")\n",
        "  print(f\"\\nPor lo tanto un nuevo camión es mejor que enviar tinas adicionales al año, ya que resulta en un costo menor.\")"
      ],
      "metadata": {
        "colab": {
          "base_uri": "https://localhost:8080/"
        },
        "id": "oQoGelra3mnj",
        "outputId": "fd5e888b-6c9c-4062-e0bb-a7cbf87d620c"
      },
      "execution_count": 34,
      "outputs": [
        {
          "output_type": "stream",
          "name": "stdout",
          "text": [
            "El número de días que se trabaja al año es:  260\n",
            "El número promedio de excedencias al año es:  259.194\n",
            "El costo por enviar una una tina adicional es: $200\n",
            "El costo anual por enviar tinas adicionales es: $51838.8\n",
            "El costo de un nuevo camión es: $60000\n",
            "\n",
            "Por lo tanto enviar tinas adicionales al año es mejor que un nuevo camión, ya que resulta en un costo menor.\n"
          ]
        }
      ]
    }
  ]
}