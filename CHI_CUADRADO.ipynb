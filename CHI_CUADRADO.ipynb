{
  "nbformat": 4,
  "nbformat_minor": 0,
  "metadata": {
    "colab": {
      "provenance": [],
      "authorship_tag": "ABX9TyM/Eeaqda+zGXa2fYyeEZ5J",
      "include_colab_link": true
    },
    "kernelspec": {
      "name": "python3",
      "display_name": "Python 3"
    },
    "language_info": {
      "name": "python"
    }
  },
  "cells": [
    {
      "cell_type": "markdown",
      "metadata": {
        "id": "view-in-github",
        "colab_type": "text"
      },
      "source": [
        "<a href=\"https://colab.research.google.com/github/FernandoElizarraras7/SIMULACION-I/blob/main/CHI_CUADRADO.ipynb\" target=\"_parent\"><img src=\"https://colab.research.google.com/assets/colab-badge.svg\" alt=\"Open In Colab\"/></a>"
      ]
    },
    {
      "cell_type": "code",
      "execution_count": 10,
      "metadata": {
        "colab": {
          "base_uri": "https://localhost:8080/",
          "height": 628
        },
        "id": "bNZ42Pc8XXYd",
        "outputId": "e8921a79-3ba7-4699-9846-5d7c3b106863"
      },
      "outputs": [
        {
          "output_type": "stream",
          "name": "stdout",
          "text": [
            "Las hipotesis son:\n",
            "\n",
            "H0: La lista sigue una distribución uniforme.\n",
            "\n",
            "H1: La lista no sigue una distribución uniforme.\n",
            "\n",
            "Valor crítico: 9.49\n",
            "Estadístico de prueba: 4.2\n",
            "Se acepta la hipotesis nula. Si tiene distribución uniforme.\n"
          ]
        },
        {
          "output_type": "display_data",
          "data": {
            "text/plain": [
              "<Figure size 640x480 with 1 Axes>"
            ],
            "image/png": "[encoded data removed]"
          },
          "metadata": {}
        }
      ],
      "source": [
        "import matplotlib.pyplot as plt\n",
        "\n",
        "#Datos de la muestra\n",
        "x = [0.8797, 0.9848, 0.4557, 0.9170, 0.8376, 0.3884, 0.3469, 0.1592, 0.2204, 0.6235,\n",
        "     0.6289, 0.7977, 0.8536, 0.5991, 0.3681, 0.8750, 0.5844, 0.8846, 0.5461, 0.2088,\n",
        "     0.5999, 0.8147, 0.3410, 0.5739, 0.1525, 0.8589, 0.6431, 0.1492, 0.3254, 0.2006,\n",
        "     0.9996, 0.7387, 0.8681, 0.0856, 0.4720, 0.2415, 0.5613, 0.5291, 0.2258, 0.4272,\n",
        "     0.3808, 0.0318, 0.3188, 0.4603, 0.6360, 0.9606, 0.7401, 0.5992, 0.5027, 0.0954]\n",
        "\n",
        "#Se imprimen hipotesis\n",
        "print(\"Las hipotesis son:\")\n",
        "print(\"\\nH0: La lista sigue una distribución uniforme.\")\n",
        "print(\"\\nH1: La lista no sigue una distribución uniforme.\")\n",
        "\n",
        "#Valor crítico\n",
        "valor_critico = 9.49\n",
        "print(\"\\nValor crítico:\", valor_critico)\n",
        "\n",
        "#Contadores para intervalos\n",
        "frecuencias = [0, 0, 0, 0, 0]\n",
        "\n",
        "#Clasificar los valores en intervalos y contar frecuencias\n",
        "for i in x:\n",
        "    if i < 0.20:\n",
        "        frecuencias[0] += 1\n",
        "    elif i < 0.40:\n",
        "        frecuencias[1] += 1\n",
        "    elif i < 0.60:\n",
        "        frecuencias[2] += 1\n",
        "    elif i < 0.80:\n",
        "        frecuencias[3] += 1\n",
        "    else:\n",
        "        frecuencias[4] += 1\n",
        "\n",
        "#Calcular esperanza teórica\n",
        "esperanza = len(x) / 5\n",
        "\n",
        "#Calcular estadístico de prueba\n",
        "estadistico_prueba = sum([(frecuencia - esperanza) ** 2 for frecuencia in frecuencias]) / esperanza\n",
        "print(\"Estadístico de prueba:\", estadistico_prueba)\n",
        "\n",
        "#Verificar si se rechaza la hipótesis nula\n",
        "if estadistico_prueba > valor_critico:\n",
        "  print(\"Se rechaza la hipotesis nula. No tiene distribución uniforme.\")\n",
        "else:\n",
        "  print(\"Se acepta la hipotesis nula. Si tiene distribución uniforme.\")\n",
        "\n",
        "#Etiquetas para los intervalos\n",
        "etiquetas = [\"0.01-0.20\", \"0.21-0.40\", \"0.41-0.60\", \"0.61-0.80\", \"0.81-1.00\"]\n",
        "\n",
        "#Gráfico de barras\n",
        "plt.bar(etiquetas, frecuencias, color='yellow')\n",
        "plt.title('Distribución de la lista')\n",
        "plt.xlabel('Intervalos')\n",
        "plt.ylabel('Frecuencia')\n",
        "plt.savefig('distribucion.png')\n",
        "plt.show()\n"
      ]
    }
  ]
}