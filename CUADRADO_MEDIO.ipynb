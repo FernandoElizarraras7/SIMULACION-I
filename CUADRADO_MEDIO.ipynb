{
  "nbformat": 4,
  "nbformat_minor": 0,
  "metadata": {
    "colab": {
      "provenance": [],
      "authorship_tag": "ABX9TyOCeTovLE6to6YpX9EkrUcG",
      "include_colab_link": true
    },
    "kernelspec": {
      "name": "python3",
      "display_name": "Python 3"
    },
    "language_info": {
      "name": "python"
    }
  },
  "cells": [
    {
      "cell_type": "markdown",
      "metadata": {
        "id": "view-in-github",
        "colab_type": "text"
      },
      "source": [
        "<a href=\"https://colab.research.google.com/github/FernandoElizarraras7/SIMULACION-I/blob/main/CUADRADO_MEDIO.ipynb\" target=\"_parent\"><img src=\"https://colab.research.google.com/assets/colab-badge.svg\" alt=\"Open In Colab\"/></a>"
      ]
    },
    {
      "cell_type": "code",
      "execution_count": 42,
      "metadata": {
        "id": "wI56rsfXDd5f",
        "colab": {
          "base_uri": "https://localhost:8080/"
        },
        "outputId": "1bd67246-0bb5-4aa8-e02c-62328e4942c4"
      },
      "outputs": [
        {
          "output_type": "stream",
          "name": "stdout",
          "text": [
            "Ingrese un número de 4 dígitos: 4768\n",
            "El cuadrado de 4768 es 22733824 y tiene 8 dígitos.\n",
            "El nuevo número es 7338.\n",
            "El cuadrado de 7338 es 53846244 y tiene 8 dígitos.\n",
            "El nuevo número es 8462.\n",
            "El cuadrado de 8462 es 71605444 y tiene 8 dígitos.\n",
            "El nuevo número es 6054.\n",
            "El cuadrado de 6054 es 36650916 y tiene 8 dígitos.\n",
            "El nuevo número es 6509.\n",
            "El cuadrado de 6509 es 42367081 y tiene 8 dígitos.\n",
            "El nuevo número es 3670.\n",
            "El cuadrado de 3670 es 13468900 y tiene 8 dígitos.\n",
            "El nuevo número es 4689.\n",
            "El cuadrado de 4689 es 21986721 y tiene 8 dígitos.\n",
            "El nuevo número es 9867.\n",
            "El cuadrado de 9867 es 97357689 y tiene 8 dígitos.\n",
            "El nuevo número es 3576.\n",
            "La secuencia de números generados es:\n",
            "     [4768, 7338, 8462, 6054, 6509, 3670, 4689, 9867, 3576]\n"
          ]
        }
      ],
      "source": [
        "import math\n",
        "\n",
        "#Función para validar si un número tiene 4 dígitos.\n",
        "def validar_numero(num):\n",
        "    return len(str(num)) == 4\n",
        "\n",
        "#Función para generar la secuencia de números utilizando el método del cuadrado medio.\n",
        "def cuadrado_medio(num):\n",
        "    secuencia = [num]\n",
        "    for _ in range(8):  # Generar 9 números en la secuencia\n",
        "        cuadrado = num ** 2\n",
        "        cuadrado_str = str(cuadrado) #Convertir el cuadrado a cadena para calcular su longitud.\n",
        "        longitud = len(cuadrado_str)\n",
        "        mitad_inicio = (longitud - 4) // 2 #Obtener la mitad del cuadrado para formar el siguiente número en la secuencia.\n",
        "        siguiente_num = int(cuadrado_str[mitad_inicio:mitad_inicio + 4])\n",
        "        print(f\"El cuadrado de {num} es {cuadrado} y tiene {longitud} dígitos.\")  #Imprimir el cuadrado su longitud y el siguiente número en la secuencia.\n",
        "        print(f\"El nuevo número es {siguiente_num}.\")\n",
        "        secuencia.append(siguiente_num)\n",
        "        num = siguiente_num #Actualizar el número para el siguiente cálculo.\n",
        "    return secuencia\n",
        "\n",
        "#Inicio del programa pprincipal.\n",
        "num = int(input(\"Ingrese un número de 4 dígitos: \"))\n",
        "\n",
        "#Validar que el número tenga 4 dígitos.\n",
        "while not validar_numero(num):\n",
        "    print(\"El número ingresado no tiene 4 dígitos.\")\n",
        "    num = int(input(\"Ingrese un número de 4 dígitos: \"))\n",
        "\n",
        "#Generar la secuencia de números utilizando el método del cuadrado medio.\n",
        "secuencia = cuadrado_medio(num)\n",
        "\n",
        "print(\"La secuencia de números generados es:\")\n",
        "print(\"    \", secuencia)"
      ]
    }
  ]
}